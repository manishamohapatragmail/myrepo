{
  "metadata": {
    "kernelspec": {
      "name": "python",
      "display_name": "Python (Pyodide)",
      "language": "python"
    },
    "language_info": {
      "codemirror_mode": {
        "name": "python",
        "version": 3
      },
      "file_extension": ".py",
      "mimetype": "text/x-python",
      "name": "python",
      "nbconvert_exporter": "python",
      "pygments_lexer": "ipython3",
      "version": "3.8"
    }
  },
  "nbformat_minor": 4,
  "nbformat": 4,
  "cells": [
    {
      "cell_type": "markdown",
      "source": "# This is a heading 1\n## This is a heading 2\n### This is a heading 3\n#### This is a heading 4\n##### This is a heading 5\n###### This is a heading 6\n####### This is just a text\n\n#### Formatting\n\n**This is bold text with asterisk.**\n\n__This is bold text with underscore.__ \n\n*This is italics text with asterisk.*\n\n_This is italics text with underscore._\n\n#### Links\n\nNow for hyperlinks\n\n[Manisha's Drive](https://drive.google.com/drive/home)\n\n<https://drive.google.com/drive/home>\n\n\n",
      "metadata": {}
    },
    {
      "cell_type": "markdown",
      "source": "#### Images\nNow for rendering images\n\n![This is the skills network logo](https://cf-courses-data.s3.us.cloud-object-storage.appdomain.cloud/assets/logos/SN_web_lightmode.png)",
      "metadata": {
        "jp-MarkdownHeadingCollapsed": true
      }
    },
    {
      "cell_type": "markdown",
      "source": "#### Tables\n\nTo create tables, use: \n* **hyphens** <code>(----)</code> for column headers \n* **pipes** <code>|</code> to separate each column\n* **Text on a new line** to separate each row\n\n|Child|Mom|\n|-----|---|\n|Aadi|Manisha|\n|Anisa|Manisha|\n|Manisha|Uma|\n|Ruchira|Uma|\n\nThe end of tables\n",
      "metadata": {}
    },
    {
      "cell_type": "markdown",
      "source": "#### Unordered List\n\nAn unordered list is also referred to as a **bulleted list**.\n\nYou can create an unordered list by adding **dashes (-), asterisks (*), or plus signs (+)** in front of line items.\n\n- Item 1\n- Item 2\n- Item 3\n\n* Starred item 1\n* Starred item 2\n* Starred item 3\n\n+ Plus item 1\n+ Plus item 2\n+ Plus item 3\n\n- Item 1\n  * Subitem 1\n    - sub sub item 1\n    - sub sub item 2\n  * Subitem 2\n- Item 2\n- Item 3\n\n\n",
      "metadata": {}
    },
    {
      "cell_type": "markdown",
      "source": "#### Ordered List\nWe can create an ordered list by adding line items with **numbers** followed by **periods**.\n\n\n1. First item\n   1. Sub item 1\n      1. sub sub item 1\n         1. sub sub sub item 1\n            1. sub sub sub sub item 1\n   3. Sub item 2\n3. Second item\n4. Third item\n5. Fourth item",
      "metadata": {}
    },
    {
      "cell_type": "markdown",
      "source": "## Practice Exercises\n\n## Welcome to Python programming\n![This is SN labs New Launcher](https://cf-courses-data.s3.us.cloud-object-storage.appdomain.cloud/IBMDeveloperSkillsNetwork-DS0105EN-SkillsNetwork/labs/Labs_V4/images/Launcher.png)\n\n\n\n<a href =\"https://www.coursera.org/learn/open-source-tools-for-data-science/home/\">Tools For Data Science</a>\n\n[Tools For Data Science](https://www.coursera.org/learn/open-source-tools-for-data-science/home/)\n\n|Fruit|Quantity (kg)|Price|\n|-----|---|---|\n|Apple|2|rs. 500|\n|Orange|1|1p|\n|Mango|3|Rs. 200|\n|Grapes|1|12p|\n\n\n1. Python\n2. Java\n3. C++\n4. C",
      "metadata": {}
    },
    {
      "cell_type": "code",
      "source": "",
      "metadata": {
        "trusted": true
      },
      "outputs": [],
      "execution_count": null
    }
  ]
}